{
 "cells": [
  {
   "cell_type": "markdown",
   "metadata": {},
   "source": [
    "# Assignment: Segmenting and Clustering Neighborhoods in Toronto"
   ]
  },
  {
   "cell_type": "code",
   "execution_count": 73,
   "metadata": {},
   "outputs": [
    {
     "name": "stdout",
     "output_type": "stream",
     "text": [
      "Requirement already satisfied: geopy in /home/jupyterlab/conda/envs/python/lib/python3.6/site-packages (2.0.0)\n",
      "Requirement already satisfied: geographiclib<2,>=1.49 in /home/jupyterlab/conda/envs/python/lib/python3.6/site-packages (from geopy) (1.50)\n",
      "Requirement already satisfied: bs4 in /home/jupyterlab/conda/envs/python/lib/python3.6/site-packages (0.0.1)\n",
      "Requirement already satisfied: beautifulsoup4 in /home/jupyterlab/conda/envs/python/lib/python3.6/site-packages (from bs4) (4.9.1)\n",
      "Requirement already satisfied: soupsieve>1.2 in /home/jupyterlab/conda/envs/python/lib/python3.6/site-packages (from beautifulsoup4->bs4) (2.0.1)\n",
      "Libraries imported.\n"
     ]
    }
   ],
   "source": [
    "!pip install geopy\n",
    "\n",
    "import numpy as np # library to handle data in a vectorized manner\n",
    "\n",
    "import pandas as pd # library for data analsysis\n",
    "pd.set_option('display.max_columns', None)\n",
    "pd.set_option('display.max_rows', None)\n",
    "\n",
    "import requests # library to handle requests\n",
    "\n",
    "#import library beautifulsoup to deal the result of request\n",
    "!pip install bs4\n",
    "\n",
    "from bs4 import BeautifulSoup\n",
    "\n",
    "import csv # library csv to create the file csv\n",
    "\n",
    "print('Libraries imported.')\n",
    "\n"
   ]
  },
  {
   "cell_type": "code",
   "execution_count": 74,
   "metadata": {},
   "outputs": [],
   "source": [
    "# url for the page of wiki\n",
    "url='https://en.wikipedia.org/wiki/List_of_postal_codes_of_Canada:_M'\n",
    "\n",
    "res = requests.get(url)\n",
    "\n",
    "soup = BeautifulSoup(res.text, 'html.parser')\n",
    "bs = soup.find('table', class_=\"wikitable sortable\")"
   ]
  },
  {
   "cell_type": "code",
   "execution_count": 75,
   "metadata": {},
   "outputs": [],
   "source": [
    "# create the file csv with the table\n",
    "list_rows=bs.find_all('tr')[1:]\n",
    "\n",
    "csv_create=open(\"data_toronto.csv\", \"w\" )\n",
    "csv_writer=csv.writer(csv_create)\n",
    "csv_writer.writerow(['PostalCode','Borough','Neighborhood'])\n",
    "\n",
    "for i in list_rows:\n",
    "    row=i.find_all('td')\n",
    "    PostalCode=row[0].text.replace('\\n','')\n",
    "    Borough=row[1].text.replace('\\n','')\n",
    "    Neighborhood=row[2].text.replace('\\n','')\n",
    "    csv_writer.writerow([PostalCode,Borough,Neighborhood])\n",
    "  \n",
    "csv_create.close()"
   ]
  },
  {
   "cell_type": "code",
   "execution_count": 76,
   "metadata": {},
   "outputs": [
    {
     "data": {
      "text/plain": [
       "(103, 3)"
      ]
     },
     "execution_count": 76,
     "metadata": {},
     "output_type": "execute_result"
    }
   ],
   "source": [
    "#create the dataframe and clean it\n",
    "df = pd.read_csv('data_toronto.csv')\n",
    "\n",
    "# we want only the Borough diffrent from 'Not assigned'\n",
    "df=df[df['Borough']!='Not assigned']\n",
    "#df[df['Neighborhood']=='Not assigned'] is the same as df[df['Borough']!='Not assigned'] so we dont need to replace the neighborhood by Borough\n",
    "df.shape"
   ]
  },
  {
   "cell_type": "code",
   "execution_count": null,
   "metadata": {},
   "outputs": [],
   "source": []
  }
 ],
 "metadata": {
  "kernelspec": {
   "display_name": "Python",
   "language": "python",
   "name": "conda-env-python-py"
  },
  "language_info": {
   "codemirror_mode": {
    "name": "ipython",
    "version": 3
   },
   "file_extension": ".py",
   "mimetype": "text/x-python",
   "name": "python",
   "nbconvert_exporter": "python",
   "pygments_lexer": "ipython3",
   "version": "3.6.10"
  }
 },
 "nbformat": 4,
 "nbformat_minor": 4
}
