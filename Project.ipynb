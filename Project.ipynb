{
 "cells": [
  {
   "cell_type": "markdown",
   "metadata": {},
   "source": [
    "# Capstone Project"
   ]
  },
  {
   "cell_type": "markdown",
   "metadata": {},
   "source": [
    "## week 1 **Introduction / Business Problem**"
   ]
  },
  {
   "cell_type": "markdown",
   "metadata": {},
   "source": [
    "New York City is one of the greatest city in the world so there are plenty of the chance for all the people want to live here. \n",
    "\n",
    "In this case, we want to find a place for a new **chinese restaurant**, in order to earn the most of the money, the place must have a hign level frequence of **restaurant** it means there are a lot of necessary of the restaurant but a low level of **chinese restaurant** who shows thaat there isn't a great competition, and then it must be safe so have a low frequence of the crime. \n",
    "\n",
    "as a conclusion, we want to find a place where satisfait:\n",
    "+ high frequence of \"restaurant\"\n",
    "+ low frequence of \"chinese restaurant\"\n",
    "+ low frequence of the crime"
   ]
  },
  {
   "cell_type": "markdown",
   "metadata": {},
   "source": [
    "## week 1 **The Data**"
   ]
  },
  {
   "cell_type": "markdown",
   "metadata": {},
   "source": [
    "In order to find the best place, we try to focus on the heighborhood, for each of them, we create a dataset with three features which are:\n",
    "+ chinese restaurant\n",
    "+ other restaurant\n",
    "+ crime\n",
    "\n",
    "to get these data, we need the coordinaate of each neighborhood, as we have done before, we could find them by the site https://cocl.us/new_york_dataset. Then, by foursquare, we could get the frequence of each venues in each neighborhood. Among them, we seprate all the restaurant by two types: **Chinese restaurant** and **other restaurant**.\n",
    "\n",
    "to get the datas of the crimes, we could find it in the site https://data.cityofnewyork.us/Public-Safety/NYPD-Complaint-Data-Current-Year-To-Date-/5uac-w243 with the cordinates of the crimes in 2020. Then we could add the situation of the crimes for each neighborhood."
   ]
  },
  {
   "cell_type": "markdown",
   "metadata": {},
   "source": [
    "https://data.cityofnewyork.us/api/views/5uac-w243/rows.csv?accessType=DOWNLOAD"
   ]
  },
  {
   "cell_type": "code",
   "execution_count": null,
   "metadata": {},
   "outputs": [],
   "source": []
  }
 ],
 "metadata": {
  "kernelspec": {
   "display_name": "Python",
   "language": "python",
   "name": "conda-env-python-py"
  },
  "language_info": {
   "codemirror_mode": {
    "name": "ipython",
    "version": 3
   },
   "file_extension": ".py",
   "mimetype": "text/x-python",
   "name": "python",
   "nbconvert_exporter": "python",
   "pygments_lexer": "ipython3",
   "version": "3.6.11"
  }
 },
 "nbformat": 4,
 "nbformat_minor": 4
}
